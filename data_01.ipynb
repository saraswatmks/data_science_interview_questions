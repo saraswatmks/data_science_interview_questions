{
 "cells": [
  {
   "cell_type": "code",
   "execution_count": 1,
   "metadata": {
    "collapsed": true
   },
   "outputs": [],
   "source": [
    "import pandas as pd\n",
    "import numpy as np\n",
    "import os\n",
    "import json"
   ]
  },
  {
   "cell_type": "code",
   "execution_count": 80,
   "metadata": {
    "collapsed": true
   },
   "outputs": [],
   "source": [
    "import seaborn as sns\n",
    "import matplotlib.pyplot as plt\n",
    "%matplotlib inline"
   ]
  },
  {
   "cell_type": "code",
   "execution_count": 14,
   "metadata": {
    "scrolled": true
   },
   "outputs": [
    {
     "data": {
      "text/plain": [
       "'/Users/manish/Documents/pypy'"
      ]
     },
     "execution_count": 14,
     "metadata": {},
     "output_type": "execute_result"
    }
   ],
   "source": [
    "os.getcwd()"
   ]
  },
  {
   "cell_type": "code",
   "execution_count": 17,
   "metadata": {
    "collapsed": true
   },
   "outputs": [],
   "source": [
    "data_files = os.listdir('../../Downloads/interview/')"
   ]
  },
  {
   "cell_type": "code",
   "execution_count": null,
   "metadata": {
    "collapsed": true
   },
   "outputs": [],
   "source": [
    "uicycles = pd.read_csv(os.path.join('../../Downloads/interview/', data_files[1]))\n",
    "eventdump = pd.read_csv(os.path.join('../../Downloads/interview/', data_files[0]))"
   ]
  },
  {
   "cell_type": "code",
   "execution_count": 25,
   "metadata": {},
   "outputs": [
    {
     "name": "stdout",
     "output_type": "stream",
     "text": [
      "<class 'pandas.core.frame.DataFrame'>\n",
      "RangeIndex: 161351 entries, 0 to 161350\n",
      "Data columns (total 4 columns):\n",
      "uuid             161349 non-null object\n",
      "os               161349 non-null object\n",
      "event_type       161351 non-null object\n",
      "creation_date    161351 non-null object\n",
      "dtypes: object(4)\n",
      "memory usage: 4.9+ MB\n"
     ]
    }
   ],
   "source": [
    "uicycles.info()"
   ]
  },
  {
   "cell_type": "code",
   "execution_count": 22,
   "metadata": {},
   "outputs": [
    {
     "name": "stdout",
     "output_type": "stream",
     "text": [
      "<class 'pandas.core.frame.DataFrame'>\n",
      "RangeIndex: 995304 entries, 0 to 995303\n",
      "Data columns (total 4 columns):\n",
      "uuid               995304 non-null object\n",
      "event              995304 non-null object\n",
      "event_timestamp    995304 non-null object\n",
      "properties         995304 non-null object\n",
      "dtypes: object(4)\n",
      "memory usage: 30.4+ MB\n"
     ]
    }
   ],
   "source": [
    "eventdump.info()"
   ]
  },
  {
   "cell_type": "code",
   "execution_count": 23,
   "metadata": {},
   "outputs": [
    {
     "data": {
      "text/html": [
       "<div>\n",
       "<style>\n",
       "    .dataframe thead tr:only-child th {\n",
       "        text-align: right;\n",
       "    }\n",
       "\n",
       "    .dataframe thead th {\n",
       "        text-align: left;\n",
       "    }\n",
       "\n",
       "    .dataframe tbody tr th {\n",
       "        vertical-align: top;\n",
       "    }\n",
       "</style>\n",
       "<table border=\"1\" class=\"dataframe\">\n",
       "  <thead>\n",
       "    <tr style=\"text-align: right;\">\n",
       "      <th></th>\n",
       "      <th>uuid</th>\n",
       "      <th>event</th>\n",
       "      <th>event_timestamp</th>\n",
       "      <th>properties</th>\n",
       "    </tr>\n",
       "  </thead>\n",
       "  <tbody>\n",
       "    <tr>\n",
       "      <th>0</th>\n",
       "      <td>43e1796c34ac2a91</td>\n",
       "      <td>Cart is viewed</td>\n",
       "      <td>2016-08-29 02:07:56.88</td>\n",
       "      <td>{\"email_id\": \"careers24@gmail.com\", \"timeStamp...</td>\n",
       "    </tr>\n",
       "    <tr>\n",
       "      <th>1</th>\n",
       "      <td>3065bf9960737af</td>\n",
       "      <td>Cart is viewed</td>\n",
       "      <td>2016-08-29 03:04:00.08</td>\n",
       "      <td>{\"email_id\": \"devangnipathak@gmail.com\", \"time...</td>\n",
       "    </tr>\n",
       "    <tr>\n",
       "      <th>2</th>\n",
       "      <td>636677073e9445e3</td>\n",
       "      <td>Search results page viewed</td>\n",
       "      <td>2016-08-29 00:26:23.213</td>\n",
       "      <td>{\"category\": \"Panties\", \"timeStamp\": \"29-08-20...</td>\n",
       "    </tr>\n",
       "    <tr>\n",
       "      <th>3</th>\n",
       "      <td>75f156f9584ffccf</td>\n",
       "      <td>Push notification received</td>\n",
       "      <td>2016-08-29 02:31:20.89</td>\n",
       "      <td>{\"timeStamp\": \"29-08-2016 08:05:40\"}</td>\n",
       "    </tr>\n",
       "    <tr>\n",
       "      <th>4</th>\n",
       "      <td>651557edb4a564b0</td>\n",
       "      <td>Search is initiated</td>\n",
       "      <td>2016-08-29 03:12:53.29</td>\n",
       "      <td>{\"search_query\": \"bra for 19 years old \", \"tim...</td>\n",
       "    </tr>\n",
       "  </tbody>\n",
       "</table>\n",
       "</div>"
      ],
      "text/plain": [
       "               uuid                       event          event_timestamp  \\\n",
       "0  43e1796c34ac2a91              Cart is viewed   2016-08-29 02:07:56.88   \n",
       "1   3065bf9960737af              Cart is viewed   2016-08-29 03:04:00.08   \n",
       "2  636677073e9445e3  Search results page viewed  2016-08-29 00:26:23.213   \n",
       "3  75f156f9584ffccf  Push notification received   2016-08-29 02:31:20.89   \n",
       "4  651557edb4a564b0         Search is initiated   2016-08-29 03:12:53.29   \n",
       "\n",
       "                                          properties  \n",
       "0  {\"email_id\": \"careers24@gmail.com\", \"timeStamp...  \n",
       "1  {\"email_id\": \"devangnipathak@gmail.com\", \"time...  \n",
       "2  {\"category\": \"Panties\", \"timeStamp\": \"29-08-20...  \n",
       "3               {\"timeStamp\": \"29-08-2016 08:05:40\"}  \n",
       "4  {\"search_query\": \"bra for 19 years old \", \"tim...  "
      ]
     },
     "execution_count": 23,
     "metadata": {},
     "output_type": "execute_result"
    }
   ],
   "source": [
    "eventdump.head()"
   ]
  },
  {
   "cell_type": "code",
   "execution_count": 26,
   "metadata": {},
   "outputs": [
    {
     "data": {
      "text/html": [
       "<div>\n",
       "<style>\n",
       "    .dataframe thead tr:only-child th {\n",
       "        text-align: right;\n",
       "    }\n",
       "\n",
       "    .dataframe thead th {\n",
       "        text-align: left;\n",
       "    }\n",
       "\n",
       "    .dataframe tbody tr th {\n",
       "        vertical-align: top;\n",
       "    }\n",
       "</style>\n",
       "<table border=\"1\" class=\"dataframe\">\n",
       "  <thead>\n",
       "    <tr style=\"text-align: right;\">\n",
       "      <th></th>\n",
       "      <th>uuid</th>\n",
       "      <th>os</th>\n",
       "      <th>event_type</th>\n",
       "      <th>creation_date</th>\n",
       "    </tr>\n",
       "  </thead>\n",
       "  <tbody>\n",
       "    <tr>\n",
       "      <th>0</th>\n",
       "      <td>a9ba6d0cd8586a4f</td>\n",
       "      <td>Android</td>\n",
       "      <td>install</td>\n",
       "      <td>2016-08-06 19:54:47.0</td>\n",
       "    </tr>\n",
       "    <tr>\n",
       "      <th>1</th>\n",
       "      <td>7365ac7d0721bbf0</td>\n",
       "      <td>Android</td>\n",
       "      <td>re-install</td>\n",
       "      <td>2016-08-14 16:04:45.0</td>\n",
       "    </tr>\n",
       "    <tr>\n",
       "      <th>2</th>\n",
       "      <td>4bf1a1368533ad74</td>\n",
       "      <td>Android</td>\n",
       "      <td>uninstall</td>\n",
       "      <td>2016-08-06 17:40:18.0</td>\n",
       "    </tr>\n",
       "    <tr>\n",
       "      <th>3</th>\n",
       "      <td>8f2a30a777e2714b</td>\n",
       "      <td>Android</td>\n",
       "      <td>install</td>\n",
       "      <td>2016-08-31 05:25:24.0</td>\n",
       "    </tr>\n",
       "    <tr>\n",
       "      <th>4</th>\n",
       "      <td>cd002b38b452db4c</td>\n",
       "      <td>Android</td>\n",
       "      <td>install</td>\n",
       "      <td>2016-08-20 20:19:06.0</td>\n",
       "    </tr>\n",
       "  </tbody>\n",
       "</table>\n",
       "</div>"
      ],
      "text/plain": [
       "               uuid       os  event_type          creation_date\n",
       "0  a9ba6d0cd8586a4f  Android     install  2016-08-06 19:54:47.0\n",
       "1  7365ac7d0721bbf0  Android  re-install  2016-08-14 16:04:45.0\n",
       "2  4bf1a1368533ad74  Android   uninstall  2016-08-06 17:40:18.0\n",
       "3  8f2a30a777e2714b  Android     install  2016-08-31 05:25:24.0\n",
       "4  cd002b38b452db4c  Android     install  2016-08-20 20:19:06.0"
      ]
     },
     "execution_count": 26,
     "metadata": {},
     "output_type": "execute_result"
    }
   ],
   "source": [
    "uicycles.head()"
   ]
  },
  {
   "cell_type": "markdown",
   "metadata": {},
   "source": [
    "## Customer Retention Trend"
   ]
  },
  {
   "cell_type": "code",
   "execution_count": 68,
   "metadata": {
    "collapsed": true
   },
   "outputs": [],
   "source": [
    "# returns the time difference between install(or reinstall) / uninstall \n",
    "def get_trend(df):\n",
    "    \n",
    "    df = df.sort_values('creation_date').reset_index(drop=True)\n",
    "    df['retention'] = df['creation_date'] - df['creation_date'].shift(1)\n",
    "    return df"
   ]
  },
  {
   "cell_type": "code",
   "execution_count": 60,
   "metadata": {
    "collapsed": true
   },
   "outputs": [],
   "source": [
    "sample_uuid = uicycles['uuid'].values.tolist()[:100]"
   ]
  },
  {
   "cell_type": "code",
   "execution_count": 71,
   "metadata": {},
   "outputs": [],
   "source": [
    "rt1 = (uicycles[uicycles['uuid'].isin(sample_uuid)]\n",
    " .groupby('uuid', as_index=False)\n",
    " .apply(get_trend)\n",
    " .reset_index(drop=True))"
   ]
  },
  {
   "cell_type": "code",
   "execution_count": 89,
   "metadata": {},
   "outputs": [],
   "source": [
    "rt1['retention'] = rt1['retention'].astype('timedelta64[m]')"
   ]
  },
  {
   "cell_type": "code",
   "execution_count": 90,
   "metadata": {
    "collapsed": true
   },
   "outputs": [],
   "source": [
    "rt1 = rt1[rt1['retention'].notnull()].reset_index(drop=True)"
   ]
  },
  {
   "cell_type": "code",
   "execution_count": 93,
   "metadata": {
    "scrolled": true
   },
   "outputs": [
    {
     "data": {
      "text/plain": [
       "<matplotlib.axes._subplots.AxesSubplot at 0x1359553c8>"
      ]
     },
     "execution_count": 93,
     "metadata": {},
     "output_type": "execute_result"
    },
    {
     "data": {
      "image/png": "[encoded data removed]",
      "text/plain": [
       "<matplotlib.figure.Figure at 0x1359e1e10>"
      ]
     },
     "metadata": {},
     "output_type": "display_data"
    }
   ],
   "source": [
    "sns.distplot(rt1['retention'],bins=50)"
   ]
  },
  {
   "cell_type": "code",
   "execution_count": 99,
   "metadata": {},
   "outputs": [
    {
     "name": "stdout",
     "output_type": "stream",
     "text": [
      "The average lifetime value of a customer is 35.125 hours\n"
     ]
    }
   ],
   "source": [
    "print('The average lifetime value of a customer is {} hours'.format(rt1['retention'].median() / 60))"
   ]
  },
  {
   "cell_type": "markdown",
   "metadata": {},
   "source": [
    "## Active time of the day"
   ]
  },
  {
   "cell_type": "code",
   "execution_count": 101,
   "metadata": {
    "collapsed": true
   },
   "outputs": [],
   "source": [
    "uicycles['hour'] = uicycles['creation_date'].dt.hour"
   ]
  },
  {
   "cell_type": "code",
   "execution_count": 115,
   "metadata": {
    "collapsed": true
   },
   "outputs": [],
   "source": [
    "active_time = uicycles.groupby('hour')['event_type'].size().reset_index()"
   ]
  },
  {
   "cell_type": "code",
   "execution_count": 130,
   "metadata": {
    "collapsed": true
   },
   "outputs": [],
   "source": [
    "max_time = active_time.loc[active_time['event_type'].argmax()].hour"
   ]
  },
  {
   "cell_type": "code",
   "execution_count": 120,
   "metadata": {},
   "outputs": [
    {
     "data": {
      "text/plain": [
       "<matplotlib.axes._subplots.AxesSubplot at 0x129b689e8>"
      ]
     },
     "execution_count": 120,
     "metadata": {},
     "output_type": "execute_result"
    },
    {
     "data": {
      "image/png": "[encoded data removed]",
      "text/plain": [
       "<matplotlib.figure.Figure at 0x1295a1b70>"
      ]
     },
     "metadata": {},
     "output_type": "display_data"
    }
   ],
   "source": [
    "sns.barplot(x= 'hour', y = 'event_type', data=active_time)"
   ]
  },
  {
   "cell_type": "code",
   "execution_count": 133,
   "metadata": {},
   "outputs": [
    {
     "name": "stdout",
     "output_type": "stream",
     "text": [
      "The most active hour of the day is 17 hours i.e 5 pm\n"
     ]
    }
   ],
   "source": [
    "print('The most active hour of the day is {} hours i.e 5 pm'.format(max_time))"
   ]
  },
  {
   "cell_type": "markdown",
   "metadata": {},
   "source": [
    "## Purchase value buckets"
   ]
  },
  {
   "cell_type": "code",
   "execution_count": 180,
   "metadata": {},
   "outputs": [],
   "source": [
    "eventdump['properties'] = [json.loads(x) for x in eventdump['properties'].values.tolist()]"
   ]
  },
  {
   "cell_type": "code",
   "execution_count": 181,
   "metadata": {},
   "outputs": [],
   "source": [
    "eventdump['cat_value'] = eventdump['properties'].map(lambda x: float(x['Cart Value']) if 'Cart Value' in x else -1)"
   ]
  },
  {
   "cell_type": "code",
   "execution_count": 185,
   "metadata": {},
   "outputs": [
    {
     "data": {
      "text/plain": [
       "<matplotlib.axes._subplots.AxesSubplot at 0x1a8a7ab748>"
      ]
     },
     "execution_count": 185,
     "metadata": {},
     "output_type": "execute_result"
    },
    {
     "data": {
      "image/png": "[encoded data removed]",
      "text/plain": [
       "<matplotlib.figure.Figure at 0x12c234b38>"
      ]
     },
     "metadata": {},
     "output_type": "display_data"
    }
   ],
   "source": [
    "## general trend\n",
    "sns.distplot(eventdump['cat_value'], bins=100)"
   ]
  },
  {
   "cell_type": "code",
   "execution_count": 191,
   "metadata": {},
   "outputs": [
    {
     "data": {
      "text/plain": [
       "count    4138.0\n",
       "mean       -1.0\n",
       "std         0.0\n",
       "min        -1.0\n",
       "25%        -1.0\n",
       "50%        -1.0\n",
       "75%        -1.0\n",
       "max        -1.0\n",
       "Name: cat_value, dtype: float64"
      ]
     },
     "execution_count": 191,
     "metadata": {},
     "output_type": "execute_result"
    }
   ],
   "source": [
    "eventdump[eventdump['event'].str.contains('Checkout')].cat_value.describe()"
   ]
  },
  {
   "cell_type": "markdown",
   "metadata": {},
   "source": [
    "### There seems to be some issue in data because in all checkout events, the cart_value information is not tracked."
   ]
  },
  {
   "cell_type": "code",
   "execution_count": null,
   "metadata": {
    "collapsed": true
   },
   "outputs": [],
   "source": []
  },
  {
   "cell_type": "markdown",
   "metadata": {},
   "source": [
    "## Purchasing vs Non Purchasing"
   ]
  },
  {
   "cell_type": "markdown",
   "metadata": {},
   "source": [
    "Need more information here: how to define a purchasing vs non purchasing customers"
   ]
  },
  {
   "cell_type": "code",
   "execution_count": null,
   "metadata": {
    "collapsed": true
   },
   "outputs": [],
   "source": []
  },
  {
   "cell_type": "markdown",
   "metadata": {},
   "source": [
    "## Week over week trends"
   ]
  },
  {
   "cell_type": "markdown",
   "metadata": {},
   "source": [
    "Need more information here: how to define a purchasing customers"
   ]
  },
  {
   "cell_type": "code",
   "execution_count": null,
   "metadata": {
    "collapsed": true
   },
   "outputs": [],
   "source": []
  },
  {
   "cell_type": "code",
   "execution_count": null,
   "metadata": {
    "collapsed": true
   },
   "outputs": [],
   "source": []
  },
  {
   "cell_type": "code",
   "execution_count": null,
   "metadata": {
    "collapsed": true
   },
   "outputs": [],
   "source": []
  },
  {
   "cell_type": "code",
   "execution_count": null,
   "metadata": {
    "collapsed": true
   },
   "outputs": [],
   "source": []
  },
  {
   "cell_type": "code",
   "execution_count": null,
   "metadata": {
    "collapsed": true
   },
   "outputs": [],
   "source": []
  },
  {
   "cell_type": "code",
   "execution_count": null,
   "metadata": {
    "collapsed": true
   },
   "outputs": [],
   "source": []
  },
  {
   "cell_type": "code",
   "execution_count": null,
   "metadata": {
    "collapsed": true
   },
   "outputs": [],
   "source": []
  },
  {
   "cell_type": "code",
   "execution_count": null,
   "metadata": {
    "collapsed": true
   },
   "outputs": [],
   "source": []
  },
  {
   "cell_type": "code",
   "execution_count": null,
   "metadata": {
    "collapsed": true
   },
   "outputs": [],
   "source": []
  },
  {
   "cell_type": "code",
   "execution_count": null,
   "metadata": {
    "collapsed": true
   },
   "outputs": [],
   "source": []
  },
  {
   "cell_type": "code",
   "execution_count": null,
   "metadata": {
    "collapsed": true
   },
   "outputs": [],
   "source": []
  }
 ],
 "metadata": {
  "kernelspec": {
   "display_name": "Python 3",
   "language": "python",
   "name": "python3"
  },
  "language_info": {
   "codemirror_mode": {
    "name": "ipython",
    "version": 3
   },
   "file_extension": ".py",
   "mimetype": "text/x-python",
   "name": "python",
   "nbconvert_exporter": "python",
   "pygments_lexer": "ipython3",
   "version": "3.6.3"
  }
 },
 "nbformat": 4,
 "nbformat_minor": 2
}
